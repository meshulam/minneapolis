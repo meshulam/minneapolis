{
 "cells": [
  {
   "cell_type": "markdown",
   "metadata": {},
   "source": [
    "# Minneapolis Housing Research"
   ]
  },
  {
   "cell_type": "code",
   "execution_count": 1,
   "metadata": {},
   "outputs": [],
   "source": [
    "import sqlite3\n",
    "import pandas\n",
    "import subprocess\n",
    "import os\n",
    "\n",
    "DB = sqlite3.connect('file:data/minneapolis.db?mode=ro', uri=True)\n",
    "\n",
    "def pp(x):\n",
    "    print(format (x, ',d'))\n",
    "\n",
    "def execute(sql):\n",
    "    return DB.execute(sql).fetchall()\n",
    "\n",
    "def execute_one(sql):\n",
    "    return execute(sql)[0][0]\n"
   ]
  },
  {
   "cell_type": "code",
   "execution_count": 2,
   "metadata": {},
   "outputs": [
    {
     "name": "stdout",
     "output_type": "stream",
     "text": [
      "CREATE TABLE lotinfo(\n",
      "  \"apn\" TEXT,\n",
      "  \"ASSESSOR_USE\" TEXT,\n",
      "  \"TYPE\" TEXT,\n",
      "  \"LOTSIZE\" INTEGER,\n",
      "  \"lotDepth\" INTEGER,\n",
      "  \"lotFrontage\" TEXT,\n",
      "  \"PARCEL_BLOCK\" TEXT,\n",
      "  \"PARCEL_LOT\" TEXT,\n",
      "  \"PARCEL_ADDITION\" TEXT,\n",
      "  \"ASSESSOR_FNAME\" TEXT,\n",
      "  \"ASSESSOR_EXTENSION\" TEXT,\n",
      "  \"RelativeHomestead\" TEXT\n",
      ");\n",
      "CREATE TABLE structure_information(\n",
      "  \"apn\" TEXT,\n",
      "  \"CONCAT_ADDRESS\" TEXT,\n",
      "  \"UNIT_COUNT\" INTEGER,\n",
      "  \"building_parkspaces\" TEXT,\n",
      "  \"TOTAL_BEDROOMS\" INTEGER,\n",
      "  \"TOTAL_BATHS\" INTEGER,\n",
      "  \"BUILD_DATE\" TEXT,\n",
      "  \"ONE_BEDROOM\" TEXT,\n",
      "  \"TWO_BEDROOM\" TEXT,\n",
      "  \"THREE_BEDROOM\" TEXT,\n",
      "  \"FOUR_BEDROOM\" TEXT,\n",
      "  \"EFFICIENCY\" TEXT,\n",
      "  \"STORIES\" INTEGER,\n",
      "  \"SECOND_FLOOR_AREA\" INTEGER,\n",
      "  \"BASEMENT_AREA\" INTEGER,\n",
      "  \"FINISHED_BASEMENT_AREA\" INTEGER,\n",
      "  \"GROSS_BUILDING_AREA\" INTEGER,\n",
      "  \"ABOVEGRADEAREA\" INTEGER,\n",
      "  \"GROUND_FLOOR_AREA\" INTEGER,\n",
      "  \"BUILDINGCODE\" TEXT\n",
      ");\n",
      "CREATE TABLE zones(\n",
      "  \"apn\" TEXT,\n",
      "  \"ZONE_CODE\" TEXT,\n",
      "  \"ZONE_DESC\" TEXT,\n",
      "  \"zoneType\" TEXT\n",
      ");\n",
      "CREATE TABLE property_owner(\n",
      "  \"apn\" TEXT,\n",
      "  \"OWNER_NAME\" TEXT,\n",
      "  \"OWNER_STREETADDRESS\" TEXT,\n",
      "  \"OWNER_ADDRESS\" TEXT\n",
      ");\n",
      "CREATE TABLE property_taxpayer(\n",
      "  \"apn\" TEXT,\n",
      "  \"taxpayerLine1\" TEXT,\n",
      "  \"taxpayerLine2\" TEXT,\n",
      "  \"taxpayerLine3\" TEXT,\n",
      "  \"taxpayerLine4\" TEXT\n",
      ");\n",
      "CREATE TABLE permit_details(\n",
      "  \"pid\" TEXT,\n",
      "  \"PERMIT\" TEXT,\n",
      "  \"ISSUE_YEAR\" TEXT,\n",
      "  \"ISSUE_DATE\" TEXT,\n",
      "  \"TYPE\" TEXT,\n",
      "  \"TYPE_DESCRIPTION\" TEXT,\n",
      "  \"STATUS_P\" TEXT,\n",
      "  \"VALUATION_ESTIMATE\" NUMERIC,\n",
      "  \"APPLICATION_APPLICANT\" TEXT,\n",
      "  \"PER_COMPL_DATE\" TEXT,\n",
      "  \"SUM_FEE_PAYMENT\" TEXT\n",
      ");\n",
      "CREATE TABLE sale_history(\n",
      "  \"apn\" TEXT,\n",
      "  \"SALES_SELLERNAME\" TEXT,\n",
      "  \"SALES_BUYERNAME\" TEXT,\n",
      "  \"SALES_PRICE\" INTEGER,\n",
      "  \"sale_date\" TEXT\n",
      ");\n",
      "CREATE TABLE rental_history(\n",
      "  \"apn\" TEXT,\n",
      "  \"KEY_\" TEXT,\n",
      "  \"PERTYPE\" TEXT,\n",
      "  \"PERDESC\" TEXT,\n",
      "  \"ISSUE_DATE\" TEXT,\n",
      "  \"CONTACT_NAME\" TEXT,\n",
      "  \"CONTACT_ADDRESS1\" TEXT,\n",
      "  \"CONTACT_ADDRESS2\" TEXT,\n",
      "  \"CONTACT_CITY\" TEXT,\n",
      "  \"CONTACT_STATE\" TEXT,\n",
      "  \"CONTACT_ZIP\" TEXT,\n",
      "  \"CONTACT_PHONE\" TEXT,\n",
      "  \"paymentDate\" TEXT,\n",
      "  \"paymentAmount\" NUMERIC,\n",
      "  \"tierCode\" TEXT\n",
      ");\n",
      "CREATE TABLE valuation_history(\n",
      "  \"apn\" TEXT,\n",
      "  \"YEAR\" TEXT,\n",
      "  \"EXEMPTIONS_HOMESTEADPERCENT\" TEXT,\n",
      "  \"EXEMPTIONS_EXEMPTTYPE\" TEXT,\n",
      "  \"TOH\" TEXT,\n",
      "  \"STRUCTURE_BUILDINGVALUE\" NUMERIC,\n",
      "  \"STRUCTURE_LANDVALUE\" NUMERIC,\n",
      "  \"STRUCTURE_MACHINEVALUE\" NUMERIC,\n",
      "  \"STRUCTURE_TOTALVALUE\" NUMERIC,\n",
      "  \"TAXABLE_VALUE\" NUMERIC\n",
      ");\n",
      "\n"
     ]
    }
   ],
   "source": [
    "print(\n",
    "    subprocess.run(\"sqlite3 ./data/minneapolis.db '.schema'\", shell=True, capture_output=True, check=True).stdout.decode('utf-8')\n",
    ")"
   ]
  },
  {
   "cell_type": "code",
   "execution_count": 3,
   "metadata": {},
   "outputs": [
    {
     "name": "stdout",
     "output_type": "stream",
     "text": [
      "There are 75,914 single family homes, 61% of all lots\n"
     ]
    }
   ],
   "source": [
    "single_family_homes = execute(\"SELECT COUNT(*) FROM structure_information where buildingcode = 'Single Family'\")[0][0]\n",
    "total_lots = execute(\"SELECT COUNT(*) from structure_information\")[0][0]\n",
    "\n",
    "print(f\"There are {single_family_homes:,} single family homes, {(float(single_family_homes)/total_lots):.0%} of all lots\")"
   ]
  },
  {
   "cell_type": "markdown",
   "metadata": {},
   "source": [
    "\n",
    "## Profile Of A Flipped Property"
   ]
  },
  {
   "cell_type": "code",
   "execution_count": null,
   "metadata": {},
   "outputs": [],
   "source": []
  },
  {
   "cell_type": "markdown",
   "metadata": {},
   "source": [
    "## Sales and Valuation"
   ]
  },
  {
   "cell_type": "markdown",
   "metadata": {},
   "source": [
    "## Permits"
   ]
  },
  {
   "cell_type": "code",
   "execution_count": 4,
   "metadata": {},
   "outputs": [
    {
     "name": "stdout",
     "output_type": "stream",
     "text": [
      "828,974\n"
     ]
    }
   ],
   "source": [
    "# unique permits\n",
    "pp(execute(\"SELECT count(distinct pid) from permit_details\")[0][0])"
   ]
  },
  {
   "cell_type": "code",
   "execution_count": 5,
   "metadata": {},
   "outputs": [],
   "source": [
    "# "
   ]
  },
  {
   "cell_type": "markdown",
   "metadata": {},
   "source": [
    "## Rentals"
   ]
  },
  {
   "cell_type": "code",
   "execution_count": null,
   "metadata": {},
   "outputs": [],
   "source": []
  }
 ],
 "metadata": {
  "kernelspec": {
   "display_name": "Python 3",
   "language": "python",
   "name": "python3"
  },
  "language_info": {
   "codemirror_mode": {
    "name": "ipython",
    "version": 3
   },
   "file_extension": ".py",
   "mimetype": "text/x-python",
   "name": "python",
   "nbconvert_exporter": "python",
   "pygments_lexer": "ipython3",
   "version": "3.8.2"
  }
 },
 "nbformat": 4,
 "nbformat_minor": 4
}

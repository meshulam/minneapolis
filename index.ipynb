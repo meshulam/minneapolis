{
 "cells": [
  {
   "cell_type": "markdown",
   "metadata": {},
   "source": [
    "# Minneapolis Housing Research"
   ]
  },
  {
   "cell_type": "code",
   "execution_count": 1,
   "metadata": {},
   "outputs": [],
   "source": [
    "import csv\n",
    "import sqlite3\n",
    "import subprocess\n",
    "import os\n",
    "import random\n",
    "from collections import namedtuple\n",
    "\n",
    "import numpy as np\n",
    "import matplotlib.pyplot as plt\n",
    "\n",
    "DB = sqlite3.connect('file:data/minneapolis.db?mode=ro', uri=True)\n",
    "\n",
    "def pp(x):\n",
    "    print(format (x, ',d'))\n",
    "\n",
    "def execute(sql):\n",
    "    return DB.execute(sql).fetchall()\n",
    "\n",
    "def execute_one(sql):\n",
    "    return execute(sql)[0][0]\n",
    "\n",
    "\n",
    "def parse_apn(value):\n",
    "    apn = value.replace('-', '')\n",
    "    if len(apn) == 13:\n",
    "        return apn\n",
    "    elif len(apn) == 12:\n",
    "        return '0' + apn\n",
    "    else:\n",
    "         # \"Invalid APN: {} has a length of {}\".format(apn, str(len(apn))))\n",
    "        return None"
   ]
  },
  {
   "cell_type": "code",
   "execution_count": 2,
   "metadata": {},
   "outputs": [
    {
     "name": "stdout",
     "output_type": "stream",
     "text": [
      "CREATE TABLE lotinfo(\n",
      "  \"apn\" TEXT,\n",
      "  \"ASSESSOR_USE\" TEXT,\n",
      "  \"TYPE\" TEXT,\n",
      "  \"LOTSIZE\" INTEGER,\n",
      "  \"lotDepth\" INTEGER,\n",
      "  \"lotFrontage\" TEXT,\n",
      "  \"PARCEL_BLOCK\" TEXT,\n",
      "  \"PARCEL_LOT\" TEXT,\n",
      "  \"PARCEL_ADDITION\" TEXT,\n",
      "  \"ASSESSOR_FNAME\" TEXT,\n",
      "  \"ASSESSOR_EXTENSION\" TEXT,\n",
      "  \"RelativeHomestead\" TEXT\n",
      ");\n",
      "CREATE TABLE structure_information(\n",
      "  \"apn\" TEXT,\n",
      "  \"CONCAT_ADDRESS\" TEXT,\n",
      "  \"UNIT_COUNT\" INTEGER,\n",
      "  \"building_parkspaces\" TEXT,\n",
      "  \"TOTAL_BEDROOMS\" INTEGER,\n",
      "  \"TOTAL_BATHS\" INTEGER,\n",
      "  \"BUILD_DATE\" TEXT,\n",
      "  \"ONE_BEDROOM\" TEXT,\n",
      "  \"TWO_BEDROOM\" TEXT,\n",
      "  \"THREE_BEDROOM\" TEXT,\n",
      "  \"FOUR_BEDROOM\" TEXT,\n",
      "  \"EFFICIENCY\" TEXT,\n",
      "  \"STORIES\" INTEGER,\n",
      "  \"SECOND_FLOOR_AREA\" INTEGER,\n",
      "  \"BASEMENT_AREA\" INTEGER,\n",
      "  \"FINISHED_BASEMENT_AREA\" INTEGER,\n",
      "  \"GROSS_BUILDING_AREA\" INTEGER,\n",
      "  \"ABOVEGRADEAREA\" INTEGER,\n",
      "  \"GROUND_FLOOR_AREA\" INTEGER,\n",
      "  \"BUILDINGCODE\" TEXT\n",
      ");\n",
      "CREATE TABLE zones(\n",
      "  \"apn\" TEXT,\n",
      "  \"ZONE_CODE\" TEXT,\n",
      "  \"ZONE_DESC\" TEXT,\n",
      "  \"zoneType\" TEXT\n",
      ");\n",
      "CREATE TABLE property_owner(\n",
      "  \"apn\" TEXT,\n",
      "  \"OWNER_NAME\" TEXT,\n",
      "  \"OWNER_STREETADDRESS\" TEXT,\n",
      "  \"OWNER_ADDRESS\" TEXT\n",
      ");\n",
      "CREATE TABLE property_taxpayer(\n",
      "  \"apn\" TEXT,\n",
      "  \"taxpayerLine1\" TEXT,\n",
      "  \"taxpayerLine2\" TEXT,\n",
      "  \"taxpayerLine3\" TEXT,\n",
      "  \"taxpayerLine4\" TEXT\n",
      ");\n",
      "CREATE TABLE permit_details(\n",
      "  \"pid\" TEXT,\n",
      "  \"PERMIT\" TEXT,\n",
      "  \"ISSUE_YEAR\" TEXT,\n",
      "  \"ISSUE_DATE\" TEXT,\n",
      "  \"TYPE\" TEXT,\n",
      "  \"TYPE_DESCRIPTION\" TEXT,\n",
      "  \"STATUS_P\" TEXT,\n",
      "  \"VALUATION_ESTIMATE\" NUMERIC,\n",
      "  \"APPLICATION_APPLICANT\" TEXT,\n",
      "  \"PER_COMPL_DATE\" TEXT,\n",
      "  \"SUM_FEE_PAYMENT\" TEXT\n",
      ");\n",
      "CREATE TABLE sale_history(\n",
      "  \"apn\" TEXT,\n",
      "  \"SALES_SELLERNAME\" TEXT,\n",
      "  \"SALES_BUYERNAME\" TEXT,\n",
      "  \"SALES_PRICE\" INTEGER,\n",
      "  \"sale_date\" TEXT\n",
      ");\n",
      "CREATE TABLE rental_history(\n",
      "  \"apn\" TEXT,\n",
      "  \"KEY_\" TEXT,\n",
      "  \"PERTYPE\" TEXT,\n",
      "  \"PERDESC\" TEXT,\n",
      "  \"ISSUE_DATE\" TEXT,\n",
      "  \"CONTACT_NAME\" TEXT,\n",
      "  \"CONTACT_ADDRESS1\" TEXT,\n",
      "  \"CONTACT_ADDRESS2\" TEXT,\n",
      "  \"CONTACT_CITY\" TEXT,\n",
      "  \"CONTACT_STATE\" TEXT,\n",
      "  \"CONTACT_ZIP\" TEXT,\n",
      "  \"CONTACT_PHONE\" TEXT,\n",
      "  \"paymentDate\" TEXT,\n",
      "  \"paymentAmount\" NUMERIC,\n",
      "  \"tierCode\" TEXT\n",
      ");\n",
      "CREATE TABLE valuation_history(\n",
      "  \"apn\" TEXT,\n",
      "  \"YEAR\" TEXT,\n",
      "  \"EXEMPTIONS_HOMESTEADPERCENT\" TEXT,\n",
      "  \"EXEMPTIONS_EXEMPTTYPE\" TEXT,\n",
      "  \"TOH\" TEXT,\n",
      "  \"STRUCTURE_BUILDINGVALUE\" NUMERIC,\n",
      "  \"STRUCTURE_LANDVALUE\" NUMERIC,\n",
      "  \"STRUCTURE_MACHINEVALUE\" NUMERIC,\n",
      "  \"STRUCTURE_TOTALVALUE\" NUMERIC,\n",
      "  \"TAXABLE_VALUE\" NUMERIC\n",
      ");\n",
      "\n"
     ]
    }
   ],
   "source": [
    "print(\n",
    "    subprocess.run(\"sqlite3 ./data/minneapolis.db '.schema'\", shell=True, capture_output=True, check=True).stdout.decode('utf-8')\n",
    ")"
   ]
  },
  {
   "cell_type": "code",
   "execution_count": 3,
   "metadata": {},
   "outputs": [],
   "source": [
    "minneapolis = {}\n",
    "\n",
    "for row in execute(\"SELECT apn, buildingcode FROM structure_information\"):\n",
    "    apn, bulidingcode = row\n",
    "    minneapolis[apn] = { \n",
    "        \"valuation_history\": [], \n",
    "        \"owner\": None,\n",
    "        \"taxpayer\": None,\n",
    "        \"sales\": [],\n",
    "        \"buildingcode\": bulidingcode\n",
    "    }\n",
    "\n",
    "Valuation = namedtuple('Valuation', ['year', 'building', 'land', 'total'])\n",
    "Owner = namedtuple('Owner', ['name', 'address'])\n",
    "Sale = namedtuple('Sale', ['seller', 'buyer', 'price', 'date'])\n",
    "# taxpayer and buildingcode are strings\n"
   ]
  },
  {
   "cell_type": "markdown",
   "metadata": {},
   "source": [
    "## Single Family Homes"
   ]
  },
  {
   "cell_type": "code",
   "execution_count": 4,
   "metadata": {},
   "outputs": [
    {
     "name": "stdout",
     "output_type": "stream",
     "text": [
      "There are 75,914 single family homes, 61% of all lots\n"
     ]
    }
   ],
   "source": [
    "single_family_homes = execute_one(\"SELECT COUNT(*) FROM structure_information where buildingcode = 'Single Family'\")\n",
    "total_lots = execute(\"SELECT COUNT(*) from structure_information\")[0][0]\n",
    "\n",
    "print(f\"There are {single_family_homes:,} single family homes, {(float(single_family_homes)/total_lots):.0%} of all lots\")"
   ]
  },
  {
   "cell_type": "code",
   "execution_count": null,
   "metadata": {
    "scrolled": true
   },
   "outputs": [],
   "source": []
  },
  {
   "cell_type": "code",
   "execution_count": 5,
   "metadata": {
    "scrolled": true
   },
   "outputs": [],
   "source": [
    "# valuation_history\n",
    "for row in execute(\"SELECT apn, year, STRUCTURE_BUILDINGVALUE, STRUCTURE_LANDVALUE, STRUCTURE_TOTALVALUE FROM valuation_history ORDER BY apn ASC, year ASC\"):\n",
    "    apn, year, building, land, total = row\n",
    "        \n",
    "    if apn in minneapolis:\n",
    "        minneapolis[apn]['valuation_history'].append(Valuation(year, building, land, total))"
   ]
  },
  {
   "cell_type": "code",
   "execution_count": 6,
   "metadata": {},
   "outputs": [],
   "source": [
    "# property_owner\n",
    "for row in execute(\"SELECT apn, OWNER_NAME, TRIM(OWNER_STREETADDRESS) || ' ' || TRIM(OWNER_ADDRESS) from property_owner\"):\n",
    "    apn, name, address = row\n",
    "    \n",
    "    if apn in minneapolis:\n",
    "        minneapolis[apn]['owner'] = Owner(name, address)\n"
   ]
  },
  {
   "cell_type": "code",
   "execution_count": 7,
   "metadata": {},
   "outputs": [],
   "source": [
    "# property_taxpayer\n",
    "for row in execute(\"SELECT apn, taxpayerLine1, taxpayerLine2, taxpayerLine3, taxpayerLine4 from property_taxpayer\"):\n",
    "    apn, line1, line2, line3, line4 = row\n",
    "        \n",
    "    if apn in minneapolis:\n",
    "        taxpayer = \" \".join(map(lambda x: x.strip(), filter(lambda x: x, [line1, line2, line3, line4])))\n",
    "        minneapolis[apn]['taxpayer'] = taxpayer\n",
    "        "
   ]
  },
  {
   "cell_type": "code",
   "execution_count": 8,
   "metadata": {},
   "outputs": [],
   "source": [
    "# sales\n",
    "for row in execute(\"SELECT apn, SALES_SELLERNAME, SALES_BUYERNAME, SALES_PRICE, SALE_DATE from sale_history ORDER BY apn ASC, sale_date ASC\"):\n",
    "    apn, seller, buyer, price, date = row\n",
    "    \n",
    "    if apn in minneapolis:\n",
    "       minneapolis[apn]['sales'].append(Sale(seller=seller, buyer=buyer, price=price, date=date))"
   ]
  },
  {
   "cell_type": "code",
   "execution_count": 9,
   "metadata": {},
   "outputs": [],
   "source": [
    "single_family_homes = dict(filter(lambda x: x[1]['buildingcode'] == 'Single Family', minneapolis.items()))"
   ]
  },
  {
   "cell_type": "code",
   "execution_count": 10,
   "metadata": {},
   "outputs": [],
   "source": [
    "# Valuation vs sale\n",
    "\n",
    "SaleAndValue = namedtuple('SaleAndValue', ['apn', 'year', 'valuation', 'price'])\n",
    "\n",
    "sales = []\n",
    "\n",
    "def latest_nonzero_sale(sales):\n",
    "    for sale in reversed(sales):\n",
    "        if sale.price and sale.price > 0:\n",
    "            return sale\n",
    "\n",
    "def valuation_for_year(valuations, year):\n",
    "   return next((v for v in valuations if v.year == year), None)\n",
    "        \n",
    "for apn, data in single_family_homes.items():\n",
    "    sale = latest_nonzero_sale(data['sales'])\n",
    "    \n",
    "    if not sale:\n",
    "        continue\n",
    "        \n",
    "    year = sale.date[0:4]\n",
    "    valuation = valuation_for_year(data['valuation_history'], year)\n",
    "    \n",
    "    if not valuation or valuation.total == 0 or valuation.total == '':\n",
    "        continue\n",
    "\n",
    "    sales.append(SaleAndValue(apn=apn, year=year, valuation=valuation.total, price=sale.price))"
   ]
  },
  {
   "cell_type": "code",
   "execution_count": null,
   "metadata": {},
   "outputs": [],
   "source": []
  },
  {
   "cell_type": "code",
   "execution_count": 11,
   "metadata": {},
   "outputs": [
    {
     "data": {
      "text/plain": [
       "<matplotlib.legend.Legend at 0x7f1919b389d0>"
      ]
     },
     "execution_count": 11,
     "metadata": {},
     "output_type": "execute_result"
    },
    {
     "data": {
      "image/png": "[encoded data removed]",
      "text/plain": [
       "<Figure size 1152x864 with 1 Axes>"
      ]
     },
     "metadata": {
      "needs_background": "light"
     },
     "output_type": "display_data"
    }
   ],
   "source": [
    "prices = np.array([ x.price for x in sales])\n",
    "valuations = np.array([ x.valuation for x in sales])\n",
    "\n",
    "fig, ax = plt.subplots(figsize=(16,12))\n",
    "ax.scatter(valuations, prices, label=\"Price Vs Valuation\", c='#a6cee3')\n",
    "ax.plot(prices, prices, label=\"Equal\")\n",
    "ax.set_ylabel('Sale Price')\n",
    "ax.set_xlabel('Valuation')\n",
    "ax.legend()"
   ]
  },
  {
   "cell_type": "markdown",
   "metadata": {},
   "source": [
    "\n",
    "## Profile Of A Flipped Property"
   ]
  },
  {
   "cell_type": "markdown",
   "metadata": {},
   "source": [
    "## Sales and Valuation"
   ]
  },
  {
   "cell_type": "markdown",
   "metadata": {},
   "source": [
    "## Permits"
   ]
  },
  {
   "cell_type": "code",
   "execution_count": 12,
   "metadata": {},
   "outputs": [
    {
     "name": "stdout",
     "output_type": "stream",
     "text": [
      "828,974\n"
     ]
    }
   ],
   "source": [
    "# unique permits\n",
    "pp(execute(\"SELECT count(distinct pid) from permit_details\")[0][0])"
   ]
  },
  {
   "cell_type": "markdown",
   "metadata": {},
   "source": [
    "## Downtown Properties CSV"
   ]
  },
  {
   "cell_type": "code",
   "execution_count": 20,
   "metadata": {},
   "outputs": [],
   "source": [
    "added_fieldnames = [\n",
    "    'owner_name', 'owner_address', 'taxpayer', 'buildingcode', \n",
    "    'valuation_total_2010', 'valuation_total_2015', 'valuation_total_2018', 'valuation_total_2019',\n",
    "    'valuation_building_2010', 'valuation_building_2015', 'valuation_building_2018', 'valuation_building_2019',\n",
    "    'valuation_land_2010', 'valuation_land_2015', 'valuation_land_2018', 'valuation_land_2019',\n",
    "    'sales0_date', 'sales0_seller', 'sales0_buyer', 'sales0_price',\n",
    "    'sales1_date', 'sales1_seller', 'sales1_buyer', 'sales1_price'\n",
    "]\n",
    "\n",
    "def add_fields_from_database_to_csv(row, apn_field='pid'):\n",
    "    for field in added_fieldnames:\n",
    "        row[field] = None\n",
    " \n",
    "    apn = parse_apn(row[apn_field].strip())\n",
    "    \n",
    "    if not apn or apn not in minneapolis:\n",
    "        return\n",
    "    \n",
    "    property = minneapolis[apn]\n",
    "\n",
    "    row['buildingcode'] = property['buildingcode']\n",
    "    row['taxpayer'] = property['taxpayer']\n",
    "    \n",
    "    if property['valuation_history']:\n",
    "        for year in ['2010', '2015', '2018', '2019']:\n",
    "            valuation = valuation_for_year(property['valuation_history'], year)\n",
    "            if valuation:\n",
    "              for valuation_type in ['land', 'building', 'total']:\n",
    "                row[f\"valuation_{valuation_type}_{year}\"] = getattr(valuation, valuation_type)\n",
    "\n",
    "    if property['owner']:\n",
    "        row['owner_name'] = minneapolis[apn]['owner'].name\n",
    "        row['owner_address'] = minneapolis[apn]['owner'].address\n",
    "\n",
    "    for i, sale in enumerate(property['sales'][-2:]):\n",
    "        row[f\"sales{i}_date\"] = sale.date\n",
    "        row[f\"sales{i}_seller\"] = sale.seller\n",
    "        row[f\"sales{i}_buyer\"] = sale.buyer\n",
    "        row[f\"sales{i}_price\"] = sale.price\n"
   ]
  },
  {
   "cell_type": "code",
   "execution_count": 21,
   "metadata": {},
   "outputs": [],
   "source": [
    "with open('./data/dt_properties.csv', 'r') as dt_properties_in:\n",
    "    with open('./data/dt_properties_out.csv', 'w') as dt_properties_out:\n",
    "        reader = csv.DictReader(dt_properties_in)\n",
    "        writer = csv.writer(dt_properties_out)\n",
    "        \n",
    "        writer.writerow(reader.fieldnames + added_fieldnames)\n",
    "        \n",
    "        for row in reader:\n",
    "            add_fields_from_database_to_csv(row, apn_field='PID')               \n",
    "            writer.writerow(row.values())\n",
    "    \n",
    "    "
   ]
  },
  {
   "cell_type": "code",
   "execution_count": 22,
   "metadata": {},
   "outputs": [],
   "source": [
    "with open('./data/damaged.csv', 'r') as infile:\n",
    "    with open('./data/damaged_out.csv', 'w') as outfile:\n",
    "        reader = csv.DictReader(infile)\n",
    "        writer = csv.writer(outfile)\n",
    "        \n",
    "        writer.writerow(reader.fieldnames + added_fieldnames)\n",
    "        \n",
    "        for row in reader:\n",
    "            add_fields_from_database_to_csv(row)            \n",
    "            writer.writerow(row.values())\n",
    "                                \n",
    "    "
   ]
  },
  {
   "cell_type": "code",
   "execution_count": null,
   "metadata": {},
   "outputs": [],
   "source": []
  }
 ],
 "metadata": {
  "kernelspec": {
   "display_name": "Python 3",
   "language": "python",
   "name": "python3"
  },
  "language_info": {
   "codemirror_mode": {
    "name": "ipython",
    "version": 3
   },
   "file_extension": ".py",
   "mimetype": "text/x-python",
   "name": "python",
   "nbconvert_exporter": "python",
   "pygments_lexer": "ipython3",
   "version": "3.8.2"
  }
 },
 "nbformat": 4,
 "nbformat_minor": 4
}
